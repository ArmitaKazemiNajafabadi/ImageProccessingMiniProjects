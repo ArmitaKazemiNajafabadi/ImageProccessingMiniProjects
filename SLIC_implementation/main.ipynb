{
 "cells": [
  {
   "cell_type": "markdown",
   "metadata": {},
   "source": [
    "توضیحات بیشتر در فایل پی دی اف توضیحات"
   ]
  },
  {
   "cell_type": "code",
   "execution_count": 1,
   "metadata": {},
   "outputs": [
    {
     "ename": "ModuleNotFoundError",
     "evalue": "No module named 'skimage'",
     "output_type": "error",
     "traceback": [
      "\u001b[1;31m---------------------------------------------------------------------------\u001b[0m",
      "\u001b[1;31mModuleNotFoundError\u001b[0m                       Traceback (most recent call last)",
      "\u001b[1;32m~\\AppData\\Local\\Temp/ipykernel_17012/1776670305.py\u001b[0m in \u001b[0;36m<module>\u001b[1;34m\u001b[0m\n\u001b[0;32m      3\u001b[0m \u001b[1;32mimport\u001b[0m \u001b[0mnumpy\u001b[0m \u001b[1;32mas\u001b[0m \u001b[0mnp\u001b[0m\u001b[1;33m\u001b[0m\u001b[1;33m\u001b[0m\u001b[0m\n\u001b[0;32m      4\u001b[0m \u001b[1;32mimport\u001b[0m \u001b[0mmath\u001b[0m\u001b[1;33m\u001b[0m\u001b[1;33m\u001b[0m\u001b[0m\n\u001b[1;32m----> 5\u001b[1;33m \u001b[1;32mfrom\u001b[0m \u001b[0mskimage\u001b[0m\u001b[1;33m.\u001b[0m\u001b[0msegmentation\u001b[0m \u001b[1;32mimport\u001b[0m \u001b[0mmark_boundaries\u001b[0m\u001b[1;33m\u001b[0m\u001b[1;33m\u001b[0m\u001b[0m\n\u001b[0m",
      "\u001b[1;31mModuleNotFoundError\u001b[0m: No module named 'skimage'"
     ]
    }
   ],
   "source": [
    "import os\n",
    "import cv2\n",
    "import numpy as np\n",
    "import math\n",
    "from skimage.segmentation import mark_boundaries\n"
   ]
  },
  {
   "cell_type": "markdown",
   "metadata": {},
   "source": [
    "آماده سازی تصویر در سه فضای آرجی بی، لب و خاکستری آماده سازی و گرادیان"
   ]
  },
  {
   "cell_type": "code",
   "execution_count": null,
   "metadata": {},
   "outputs": [],
   "source": [
    "\n",
    "slic = cv2.imread( os.getcwd()+'\\\\'+'slic.jpg',cv2.IMREAD_UNCHANGED)\n",
    "slic_bw = cv2.imread( os.getcwd()+'\\\\'+'slic.jpg',cv2.IMREAD_GRAYSCALE)\n",
    "slic_lab = cv2.cvtColor(slic,cv2.COLOR_BGR2LAB) \n",
    "\n",
    "horz_gradian = cv2.filter2D(slic_bw,-1,np.float32([[1,1,1],[0,0,0],[-1,-1,-1]]))  \n",
    "vert_gradian = cv2.filter2D(slic_bw,-1,np.float32([[1,0,-1],[1,0,-1],[1,0,-1]]))\n",
    "gradian = np.sqrt(horz_gradian**2 + vert_gradian**2)"
   ]
  },
  {
   "cell_type": "markdown",
   "metadata": {},
   "source": [
    "تابع تولید کننده مراکز اولیه بطور یکنواخت"
   ]
  },
  {
   "cell_type": "code",
   "execution_count": null,
   "metadata": {},
   "outputs": [],
   "source": [
    "def generate_centers(delta_rows,r ,delta_cols, c):\n",
    "    par = 20\n",
    "    sotun = np.linspace(delta_rows-par, min(delta_rows*(r), slic_bw.shape[0])-par,num = r)\n",
    "    satr = np.linspace(delta_cols-par, min(delta_cols*(c), slic_bw.shape[1])-par,num = c)\n",
    "    #center is a 2D thing \n",
    "    centers_x,centers_y = np.meshgrid(satr, sotun)  \n",
    "    centers = np.vstack([np.ravel(centers_x), np.ravel(centers_y)]).T\n",
    "    centers = centers.astype(int)\n",
    "    return centers"
   ]
  },
  {
   "cell_type": "markdown",
   "metadata": {},
   "source": [
    "تابع حرکت دهنده ی اولیه ی نقاط در همسایگی ده در ده"
   ]
  },
  {
   "cell_type": "code",
   "execution_count": null,
   "metadata": {},
   "outputs": [],
   "source": [
    "def first_move_centers(centers, new_cluster_center):\n",
    "    pan = 5\n",
    "    #mishe 10x10\n",
    "    i=0\n",
    "    for cluster_center in centers:\n",
    "        coor_x = cluster_center[0]\n",
    "        coor_y = cluster_center[1]\n",
    "\n",
    "        partition = gradian[coor_y-pan:coor_y+pan+1, coor_x-pan:coor_x+pan+1]\n",
    "        argmin = np.unravel_index(partition.argmin(), partition.shape)\n",
    "        new_cluster_center[i] = [coor_x + argmin[1] - pan, coor_y + argmin[0] - pan ]\n",
    "        i+=1\n",
    "    return new_cluster_center"
   ]
  },
  {
   "cell_type": "markdown",
   "metadata": {},
   "source": [
    "تابع اصلی انجام دهنده الگوریتم اسلیک"
   ]
  },
  {
   "cell_type": "code",
   "execution_count": null,
   "metadata": {},
   "outputs": [],
   "source": [
    "def slic_with_K(img_lab,r,c,alpha, threshold, stop_itr):\n",
    "    global gradian\n",
    "    global slic_bw\n",
    " \n",
    "    img = cv2.cvtColor(img_lab, cv2.COLOR_LAB2BGR)\n",
    "    delta_rows = slic_bw.shape[0]//r\n",
    "    delta_cols = slic_bw.shape[1]//c\n",
    "    labels = np.zeros(slic_bw.shape, dtype = 'uint8')\n",
    "    label_distances = np.full(slic_bw.shape, np.inf, dtype = 'float32')\n",
    "    \n",
    "    centers = generate_centers(delta_rows,r, delta_cols, c)   \n",
    "    new_cluster_center = np.zeros(centers.shape, dtype = 'uint16')\n",
    "    prev_centers = np.zeros(centers.shape, dtype = 'uint16')\n",
    "\n",
    "    new_cluster_center[:,:] = first_move_centers(centers, new_cluster_center)\n",
    "       \n",
    "    centers[:,:] = new_cluster_center[:,:]\n",
    "    prev_centers[:,:] = centers[:,:]\n",
    "    \n",
    "    distance_window = make_distance_window(delta_rows, delta_cols)\n",
    "    \n",
    "    # print(distance_window.shape)\n",
    "    # print(points)\n",
    "        \n",
    "    t = delta_cols\n",
    "    delta_cols = delta_rows\n",
    "    delta_rows = t\n",
    "    counter = 0 \n",
    "    \n",
    "    #for similarity difference with center\n",
    "    threshshold = 300\n",
    "    #for stoping outer loop\n",
    "    stop_threshold = 10\n",
    "    # stop_itr = 1\n",
    "    itr_cnt = 0\n",
    "    # while (itr_cnt > 0 and np.mean(np.abs(np.sum(centers - prev_centers))) > threshshold) or itr_cnt > stop_itr or itr_cnt==0 :\n",
    "    while itr_cnt < stop_itr:\n",
    "        counter = 0 \n",
    "        itr_cnt +=1\n",
    "        for cluster_center in centers:\n",
    "                counter+=1\n",
    "                coor_x = cluster_center[0]\n",
    "                coor_y = cluster_center[1]\n",
    "                startx1 = max(coor_x - delta_rows, 0)\n",
    "                endx1 = min(coor_x + delta_rows, slic_bw.shape[1]-1)\n",
    "                starty1= max(coor_y - delta_cols,0)\n",
    "                endy1 = min(coor_y + delta_cols, slic_bw.shape[0]-1)\n",
    "            \n",
    "                partition_lab = slic_lab[starty1:endy1+1,startx1:endx1+1,:]\n",
    "                \n",
    "                \n",
    "                startx2 = delta_rows - coor_x + startx1\n",
    "                endx2 = delta_rows - coor_x + endx1\n",
    "                starty2 = delta_cols - coor_y + starty1\n",
    "                endy2 = delta_cols - coor_y + endy1       \n",
    "                \n",
    "                partition_dist = distance_window[starty2:endy2+1,startx2:endx2+1]\n",
    "            \n",
    "                dist_matrix = dist(partition_lab, partition_dist, slic_lab[coor_y][coor_x], alpha)\n",
    "                # print(dist_matrix)\n",
    "                # print(np.where(inted_boolean_matrix>0))\n",
    "                updated_cluster_center = matrix_corrector(dist_matrix, cluster_center, counter,startx1, endx1, starty1, endy1, labels, label_distances, threshold)\n",
    "                #  = update_cluster_center()\n",
    "                new_cluster_center[counter-1] = updated_cluster_center\n",
    "        prev_centers[:,:] = centers[:,:]\n",
    "        centers[:,:] = new_cluster_center[:,:]\n",
    "        # print(itr_cnt)\n",
    "\n",
    "\n",
    "    global show_labels\n",
    "    show_labels = labels[:,:]\n",
    "\n",
    "    return image_process(img, labels)\n",
    "\n",
    "    "
   ]
  },
  {
   "cell_type": "markdown",
   "metadata": {},
   "source": [
    "تابع تولید کننده جدولی که در هر درایه ی آن، فاصله اقلیدسی آن درایه تا مرکز جدول قرار گرفته"
   ]
  },
  {
   "cell_type": "code",
   "execution_count": null,
   "metadata": {},
   "outputs": [],
   "source": [
    "def make_distance_window(delta_rows, delta_cols):\n",
    "    satr = np.arange(-delta_rows, +delta_rows+1)\n",
    "    satr = np.tile(satr, (2*delta_cols+1, 1)).T\n",
    "    sotun = np.arange(-delta_cols, delta_cols+1)\n",
    "    sotun = np.tile(sotun, (2*delta_rows+1,1))\n",
    "    sotun = sotun**2\n",
    "    satr = satr**2\n",
    "    return np.sqrt(satr + sotun)"
   ]
  },
  {
   "cell_type": "markdown",
   "metadata": {},
   "source": [
    "تابع محاسبه فاصله کلی از روی فاصله در فضای لب و فاصله اقلیدسی "
   ]
  },
  {
   "cell_type": "code",
   "execution_count": null,
   "metadata": {},
   "outputs": [],
   "source": [
    "def dist(lab, dist, cnt_lab, alpha):\n",
    "    d_lab = np.sqrt((lab[:,:,0] -  cnt_lab[0])**2 + (lab[:,:,1] -  cnt_lab[1])**2 + (lab[:,:,2] -  cnt_lab[2])**2)\n",
    "    # alpha = 0.4\n",
    "    return d_lab + alpha*dist"
   ]
  },
  {
   "cell_type": "markdown",
   "metadata": {},
   "source": [
    "تابع آپدیت ماتریس های متناظر با لیبل هر پیکسل و فاصله هر پیکسل تا کلاستر سنتر متناظر با آن در هر ایتریشن"
   ]
  },
  {
   "cell_type": "code",
   "execution_count": null,
   "metadata": {},
   "outputs": [],
   "source": [
    "def matrix_corrector(dist_matrix, center, k, sx, ex, sy, ey, labels, label_distances, threshold):\n",
    " \n",
    "    \n",
    "    partition_dist = label_distances[sy:ey+1,sx:ex+1]\n",
    "    partition_labels = labels[sy:ey+1,sx:ex+1]\n",
    "    \n",
    "    acc = (dist_matrix < threshold) & (dist_matrix < partition_dist)\n",
    "    partition_dist[acc] = dist_matrix[acc]\n",
    "    partition_labels[acc] = k \n",
    "\n",
    "    k_labeled_points_bool = np.equal(labels, k).astype(int)\n",
    "\n",
    "    args = np.argwhere(k_labeled_points_bool)\n",
    "    mean_x = np.mean(args[:,0])\n",
    "    mean_y = np.mean(args[:,1])\n",
    " \n",
    "    return np.array([mean_y, mean_x]).astype(int)"
   ]
  },
  {
   "cell_type": "markdown",
   "metadata": {},
   "source": [
    "تابعی که در نقاط مرزی کلاستر ها نقاط قرمز رسم می کند"
   ]
  },
  {
   "cell_type": "code",
   "execution_count": null,
   "metadata": {},
   "outputs": [],
   "source": [
    "def image_process(img, labels):\n",
    "    \n",
    "    kernel = np.ones((5,5),np.uint8)\n",
    "    # labels = cv2.morphologyEx(labels, cv2.MORPH_GRADIENT, kernel)\n",
    "    labels = cv2.erode(labels,kernel,iterations = 1)\n",
    "\n",
    "    edges_bool = cv2.Canny(labels,1,1)\n",
    "\n",
    "    for edge in np.argwhere(edges_bool):\n",
    "        img = cv2.circle(img, (edge[1],edge[0]), radius=1, color=(0, 0, 255), thickness=-1)\n",
    "\n",
    "\n",
    "    \n",
    "    # cv2.imshow('img', img)\n",
    "    # cv2.waitKey(0)\n",
    "    # cv2.destroyAllWindows()\n",
    "    return img.astype(int)"
   ]
  },
  {
   "cell_type": "markdown",
   "metadata": {},
   "source": [
    "اجرای اسلیک با ۶۴ نقطه مرکزی"
   ]
  },
  {
   "cell_type": "code",
   "execution_count": null,
   "metadata": {
    "tags": []
   },
   "outputs": [],
   "source": [
    "# img_res = slic_with_K(slic_lab,8,8,0.2, 750, 7)\n",
    "# cv2.imwrite('res05.jpg',img_res)"
   ]
  },
  {
   "cell_type": "markdown",
   "metadata": {},
   "source": [
    "اجرای اسلیک با ۲۵۶ نقطه مرکزی"
   ]
  },
  {
   "cell_type": "code",
   "execution_count": null,
   "metadata": {},
   "outputs": [],
   "source": [
    "slic = cv2.imread( os.getcwd()+'\\\\'+'slic.jpg',cv2.IMREAD_UNCHANGED)\n",
    "\n",
    "slic = cv2.resize(slic, (slic.shape[1]//2, slic.shape[0]//2))\n",
    "slic_bw = cv2.cvtColor(slic, cv2.COLOR_BGR2GRAY)\n",
    "slic_lab = cv2.cvtColor(slic,cv2.COLOR_BGR2LAB) \n",
    "horz_gradian = cv2.filter2D(slic_bw,-1,np.float32([[1,1,1],[0,0,0],[-1,-1,-1]]))  \n",
    "vert_gradian = cv2.filter2D(slic_bw,-1,np.float32([[1,0,-1],[1,0,-1],[1,0,-1]]))\n",
    "gradian = np.sqrt(horz_gradian**2 + vert_gradian**2)\n",
    "\n",
    "img_res = slic_with_K(slic_lab,16,16,0.4, 600, 6)\n",
    "cv2.imwrite('res06.jpg',img_res)"
   ]
  },
  {
   "cell_type": "markdown",
   "metadata": {},
   "source": [
    "اجرای اسلیک با ۱۰۲۴ نقطه مرکزی"
   ]
  },
  {
   "cell_type": "code",
   "execution_count": null,
   "metadata": {},
   "outputs": [],
   "source": [
    "# slic = cv2.imread( os.getcwd()+'\\\\'+'slic.jpg',cv2.IMREAD_UNCHANGED)\n",
    "\n",
    "# slic = cv2.resize(slic, (slic.shape[1]//2, slic.shape[0]//2))\n",
    "# slic_bw = cv2.cvtColor(slic, cv2.COLOR_BGR2GRAY)\n",
    "# slic_lab = cv2.cvtColor(slic,cv2.COLOR_BGR2LAB) \n",
    "# horz_gradian = cv2.filter2D(slic_bw,-1,np.float32([[1,1,1],[0,0,0],[-1,-1,-1]]))  \n",
    "# vert_gradian = cv2.filter2D(slic_bw,-1,np.float32([[1,0,-1],[1,0,-1],[1,0,-1]]))\n",
    "# gradian = np.sqrt(horz_gradian**2 + vert_gradian**2)\n",
    "\n",
    "# img_res = slic_with_K(slic_lab,32,32,0.4, 100, 4)\n",
    "# cv2.imwrite('res07.jpg',img_res)"
   ]
  },
  {
   "cell_type": "markdown",
   "metadata": {},
   "source": [
    "اجرای اسلیک با ۲۰۴۸ نقطه مرکزی"
   ]
  },
  {
   "cell_type": "code",
   "execution_count": null,
   "metadata": {},
   "outputs": [
    {
     "data": {
      "text/plain": [
       "True"
      ]
     },
     "execution_count": 39,
     "metadata": {},
     "output_type": "execute_result"
    }
   ],
   "source": [
    "# slic = cv2.imread( os.getcwd()+'\\\\'+'slic.jpg',cv2.IMREAD_UNCHANGED)\n",
    "\n",
    "# slic = cv2.resize(slic, (slic.shape[1]//2, slic.shape[0]//2))\n",
    "# slic_bw = cv2.cvtColor(slic, cv2.COLOR_BGR2GRAY)\n",
    "# slic_lab = cv2.cvtColor(slic,cv2.COLOR_BGR2LAB) \n",
    "# horz_gradian = cv2.filter2D(slic_bw,-1,np.float32([[1,1,1],[0,0,0],[-1,-1,-1]]))  \n",
    "# vert_gradian = cv2.filter2D(slic_bw,-1,np.float32([[1,0,-1],[1,0,-1],[1,0,-1]]))\n",
    "# gradian = np.sqrt(horz_gradian**2 + vert_gradian**2)\n",
    "\n",
    "# img_res = slic_with_K(slic_lab,32,64,0.55, 100, 4)\n",
    "# cv2.imwrite('res08.jpg',img_res)"
   ]
  }
 ],
 "metadata": {
  "kernelspec": {
   "display_name": "Python 3",
   "language": "python",
   "name": "python3"
  },
  "language_info": {
   "codemirror_mode": {
    "name": "ipython",
    "version": 3
   },
   "file_extension": ".py",
   "mimetype": "text/x-python",
   "name": "python",
   "nbconvert_exporter": "python",
   "pygments_lexer": "ipython3",
   "version": "3.10.0"
  },
  "orig_nbformat": 2
 },
 "nbformat": 4,
 "nbformat_minor": 2
}
