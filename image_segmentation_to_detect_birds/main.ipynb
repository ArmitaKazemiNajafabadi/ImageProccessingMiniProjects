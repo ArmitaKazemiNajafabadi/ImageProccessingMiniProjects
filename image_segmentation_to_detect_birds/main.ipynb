{
 "cells": [
  {
   "cell_type": "markdown",
   "metadata": {},
   "source": [
    "توضیحات بیشتر در فایل پی دی اف توضیحات"
   ]
  },
  {
   "cell_type": "code",
   "execution_count": 33,
   "metadata": {},
   "outputs": [],
   "source": [
    "import numpy as np\n",
    "import cv2\n",
    "import os\n",
    "from matplotlib import pyplot as plt"
   ]
  },
  {
   "cell_type": "markdown",
   "metadata": {},
   "source": [
    "لود شدن تصویر و تشخیص مرز ها و حذف سطر های بدون نقاط مرزی"
   ]
  },
  {
   "cell_type": "code",
   "execution_count": 34,
   "metadata": {},
   "outputs": [],
   "source": [
    "img = cv2.imread('birds.jpg', cv2.IMREAD_UNCHANGED)\n",
    "edges = cv2.Canny(img,100,200)\n",
    "\n",
    "idx = np.argwhere(np.all(edges[..., :] == 0, axis=1))\n",
    "edg_croped = np.delete(edges, idx, axis=0)\n",
    "img_croped = np.zeros((edg_croped.shape[0],edg_croped.shape[1],3), dtype = 'uint8')\n",
    "img_croped[:,:,0] = np.delete(img[:,:,0] , idx, axis=0)\n",
    "img_croped[:,:,1] = np.delete(img[:,:,1] , idx, axis=0)\n",
    "img_croped[:,:,2] = np.delete(img[:,:,2] , idx, axis=0)\n"
   ]
  },
  {
   "cell_type": "markdown",
   "metadata": {},
   "source": [
    "لود شدن سمپل کبوتر در فضای خاکستری"
   ]
  },
  {
   "cell_type": "code",
   "execution_count": 35,
   "metadata": {},
   "outputs": [],
   "source": [
    "\n",
    "img_gray = cv2.cvtColor(img_croped, cv2.COLOR_BGR2GRAY)\n"
   ]
  },
  {
   "cell_type": "markdown",
   "metadata": {},
   "source": [
    "لود شدن تمپلیت های نمونه"
   ]
  },
  {
   "cell_type": "code",
   "execution_count": 36,
   "metadata": {},
   "outputs": [],
   "source": [
    "template = cv2.imread('sample1.jpg',cv2.IMREAD_GRAYSCALE)\n",
    "# template1 = cv2.imread('sample2.jpg',cv2.IMREAD_GRAYSCALE)\n",
    "template2 = cv2.imread('sample3.jpg',cv2.IMREAD_GRAYSCALE)\n",
    "\n",
    "width = template.shape[1]\n",
    "height = template.shape[0]"
   ]
  },
  {
   "cell_type": "markdown",
   "metadata": {},
   "source": [
    "تمپلیت مچینگ"
   ]
  },
  {
   "cell_type": "code",
   "execution_count": 37,
   "metadata": {},
   "outputs": [],
   "source": [
    "matched_interval = cv2.matchTemplate(img_gray,template,cv2.TM_CCOEFF_NORMED)\n",
    "threshold = 0.6038\n",
    "args = np.where(matched_interval >= threshold)\n",
    "# for pt in zip(*args[::-1]):\n",
    "#     cv2.rectangle(img_croped, pt, (pt[0] + width, pt[1] + height), (0,0,255), 2)\n",
    "\n",
    "# matched_interval = cv2.matchTemplate(img_gray,template1,cv2.TM_CCOEFF_NORMED)\n",
    "# threshold = 0.8\n",
    "# args = np.where(matched_interval >= threshold)\n",
    "# for pt in zip(*args[::-1]):\n",
    "#     cv2.rectangle(img_croped, pt, (pt[0] + width, pt[1] + height), (0,0,255), 2)\n",
    "\n",
    "# cv2.imwrite('res.png',img_croped)\n",
    "\n",
    "xargs = args[0]\n",
    "yargs = args[1]\n"
   ]
  },
  {
   "cell_type": "markdown",
   "metadata": {},
   "source": [
    "اجرای گرب کات به ازای تعدادی از مستطیل های کوچک که در آن کبوتری وجود دارد"
   ]
  },
  {
   "cell_type": "code",
   "execution_count": 38,
   "metadata": {},
   "outputs": [
    {
     "name": "stdout",
     "output_type": "stream",
     "text": [
      "before\n"
     ]
    }
   ],
   "source": [
    "# cv.imwrite('res.png',output)\n",
    "\n",
    "mask = np.zeros(img.shape[:2], np.uint8)\n",
    "\n",
    "bgdModel = np.zeros((1, 65), np.float64)\n",
    "fgdModel = np.zeros((1, 65), np.float64)\n",
    "print('before')\n",
    "# print(img_croped.shape)\n",
    "mask = np.zeros((img_croped.shape[0],img_croped.shape[1])).astype('bool')\n",
    "for i in range(0,xargs.shape[0]):\n",
    "    if i < 5  or abs(xargs[i] - xargs[i-1]) > 2 or abs(yargs[i] - yargs[i-1]) > 2 or i%4==1 or i>xargs.shape[0]-5:\n",
    "        rect = (1,1,  width-1,  height-1)\n",
    "        # print(rect)\n",
    "        imi = np.zeros((width,height,3),dtype = np.uint8)\n",
    "        masky = np.zeros(imi.shape[:2],np.uint8)\n",
    "\n",
    "        # print(img_croped.shape)\n",
    "        imi[:,:,:] = img_croped[ xargs[i]: xargs[i]+width ,yargs[i]:yargs[i] + height,:]\n",
    "        # print(imi)\n",
    "        cv2.grabCut(imi,masky,rect,bgdModel,fgdModel,5,cv2.GC_INIT_WITH_RECT)\n",
    "        # print('-------')\n",
    "        mask2 = np.where((masky == 2) | (masky == 0), 0, 1)\n",
    "        # print(mask2.shape)\n",
    "        # print(mask.shape)\n",
    "        mask[ xargs[i]: xargs[i]+width ,yargs[i]:yargs[i] + height] = mask[ xargs[i]: xargs[i]+width ,yargs[i]:yargs[i] + height] | mask2\n",
    "        #a little edition\n",
    "        mask[xargs[i]+width:xargs[i]+width+20,yargs[i]+7:yargs[i] + height-30] = True\n",
    "nahai1 = mask\n",
    "# imaged = img_croped * nahai[:, :, np.newaxis]\n",
    "# print('after1')\n",
    "\n",
    "# for pt in zip(*args[::-1]):\n",
    "#     cv2.rectangle(img_croped, pt, (pt[0] + width, pt[1] + height), (0,0,255), 2)\n",
    "\n",
    "\n",
    "# cv.imwrite('res.png',output)\n",
    "\n"
   ]
  },
  {
   "cell_type": "markdown",
   "metadata": {},
   "source": [
    "تکرار اعمال بالا با یک سمپل دیگر برای دقیق تر شدن کار"
   ]
  },
  {
   "cell_type": "code",
   "execution_count": 39,
   "metadata": {},
   "outputs": [],
   "source": [
    "\n",
    "matched_interval = cv2.matchTemplate(img_gray,template2,cv2.TM_CCOEFF_NORMED)\n",
    "threshold = 0.67\n",
    "args = np.where(matched_interval >= threshold)"
   ]
  },
  {
   "cell_type": "code",
   "execution_count": 40,
   "metadata": {},
   "outputs": [
    {
     "name": "stdout",
     "output_type": "stream",
     "text": [
      "after2\n"
     ]
    },
    {
     "data": {
      "text/plain": [
       "True"
      ]
     },
     "execution_count": 40,
     "metadata": {},
     "output_type": "execute_result"
    }
   ],
   "source": [
    "xargs = args[0]\n",
    "yargs = args[1]\n",
    "\n",
    "\n",
    "mask = np.zeros(img.shape[:2], np.uint8)\n",
    "\n",
    "bgdModel = np.zeros((1, 65), np.float64)\n",
    "fgdModel = np.zeros((1, 65), np.float64)\n",
    "# print('before2')\n",
    "# print(img_croped.shape)\n",
    "mask = np.zeros((img_croped.shape[0],img_croped.shape[1])).astype('bool')\n",
    "for i in range(0,xargs.shape[0]):\n",
    "    if i < 5  or abs(xargs[i] - xargs[i-1]) > 2 or abs(yargs[i] - yargs[i-1]) > 2 or i%4==1 or i>xargs.shape[0]-5:\n",
    "        rect = (1,1,  width-1,  height-1)\n",
    "        # print(rect)\n",
    "        imi = np.zeros((width,height,3),dtype = np.uint8)\n",
    "        masky = np.zeros(imi.shape[:2],np.uint8)\n",
    "\n",
    "        # print(img_croped.shape)\n",
    "        imi[:,:,:] = img_croped[ xargs[i]: xargs[i]+width ,yargs[i]:yargs[i] + height,:]\n",
    "        # print(imi)\n",
    "        cv2.grabCut(imi,masky,rect,bgdModel,fgdModel,5,cv2.GC_INIT_WITH_RECT)\n",
    "        # print('-------')\n",
    "        mask2 = np.where((masky == 2) | (masky == 0), 0, 1)\n",
    "        # print(mask2.shape)\n",
    "        # print(mask.shape)\n",
    "        mask[ xargs[i]: xargs[i]+width ,yargs[i]:yargs[i] + height] = mask[ xargs[i]: xargs[i]+width ,yargs[i]:yargs[i] + height] | mask2\n",
    "        #a little edition\n",
    "        mask[xargs[i]+width:xargs[i]+width+20,yargs[i]+7:yargs[i] + height-30] = True\n",
    "nahai = mask | nahai1\n",
    "nahai = nahai.astype(int)\n",
    "imaged = img_croped * nahai[:, :, np.newaxis]\n",
    "# print('after2')\n",
    "\n",
    "# plt.imshow(imaged),plt.colorbar(),plt.show()\n",
    "cv2.imwrite('res.jpg', imaged)\n",
    "# files.download('res08.jpg')\n"
   ]
  }
 ],
 "metadata": {
  "kernelspec": {
   "display_name": "Python 3",
   "language": "python",
   "name": "python3"
  },
  "language_info": {
   "codemirror_mode": {
    "name": "ipython",
    "version": 3
   },
   "file_extension": ".py",
   "mimetype": "text/x-python",
   "name": "python",
   "nbconvert_exporter": "python",
   "pygments_lexer": "ipython3",
   "version": "3.7.4-final"
  },
  "orig_nbformat": 2
 },
 "nbformat": 4,
 "nbformat_minor": 2
}
